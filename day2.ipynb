{
 "cells": [
  {
   "cell_type": "code",
   "execution_count": 11,
   "id": "6ac2890d",
   "metadata": {},
   "outputs": [
    {
     "name": "stdout",
     "output_type": "stream",
     "text": [
      "nikitha 20 f\n",
      "<class '__main__.Student'>\n"
     ]
    }
   ],
   "source": [
    "class Student:\n",
    "    def __init__(self,name,age,gender):\n",
    "        self.name=name\n",
    "        self.age=age\n",
    "        self.gender=gender\n",
    "\n",
    "st1=Student(\"nikitha\",20,\"f\")\n",
    "print(st1.name,st1.age,st1.gender)\n",
    "print(type(st1))        "
   ]
  },
  {
   "cell_type": "code",
   "execution_count": 10,
   "id": "703e8cd1",
   "metadata": {},
   "outputs": [
    {
     "name": "stdout",
     "output_type": "stream",
     "text": [
      "enter the namen\n",
      "enter the age20\n",
      "enter the genderf\n",
      "n 20 f\n"
     ]
    }
   ],
   "source": [
    "class STD:\n",
    "    def __init__(self):\n",
    "        self.name=None\n",
    "        self.age=None\n",
    "        self.gender=None\n",
    "st2=STD()\n",
    "st2.name=input(\"enter the name\")\n",
    "st2.age=int(input(\"enter the age\"))\n",
    "st2.gender=input(\"enter the gender\")\n",
    "\n",
    "print(st2.name,st2.age,st2.gender)"
   ]
  },
  {
   "cell_type": "code",
   "execution_count": 9,
   "id": "54549df9",
   "metadata": {},
   "outputs": [
    {
     "name": "stdout",
     "output_type": "stream",
     "text": [
      "enter the namenik\n",
      "enter the age21\n",
      "enter the genderfemale\n",
      "nik 21 female\n"
     ]
    }
   ],
   "source": [
    "class Student:\n",
    "    def __init__(self,name,age,gender):\n",
    "        self.name=name\n",
    "        self.age=age\n",
    "        self.gender=gender\n",
    "a=input(\"enter the name\")\n",
    "b=int(input(\"enter the age\"))\n",
    "c=input(\"enter the gender\")   \n",
    "\n",
    "st3=Student(a,b,c)\n",
    "print(st3.name,st3.age,st3.gender)\n",
    "#update age\n",
    "st3.age=21"
   ]
  },
  {
   "cell_type": "code",
   "execution_count": 13,
   "id": "dca05e08",
   "metadata": {},
   "outputs": [
    {
     "name": "stdout",
     "output_type": "stream",
     "text": [
      "<class 'int'>\n",
      "<class 'str'>\n",
      "<class 'float'>\n",
      "<class 'list'>\n",
      "<class 'dict'>\n"
     ]
    }
   ],
   "source": [
    "a=1\n",
    "b='sfdg'\n",
    "c=2.4\n",
    "d=['qwe','as',1,3]\n",
    "e={1:'stg',2:'ds'}\n",
    "print(type(a))\n",
    "print(type(b))\n",
    "print(type(c))\n",
    "print(type(d))\n",
    "print(type(e))\n",
    "#class is coming in output because \"a\" the object of integer class"
   ]
  },
  {
   "cell_type": "code",
   "execution_count": 14,
   "id": "d79293c0",
   "metadata": {},
   "outputs": [
    {
     "name": "stdout",
     "output_type": "stream",
     "text": [
      "this is class a function\n"
     ]
    }
   ],
   "source": [
    "#inheritance\n",
    "class A:\n",
    "    def fun1(self):\n",
    "        print(\"this is class a function\")\n",
    "class B(A):\n",
    "    def fun2(self):\n",
    "        print(\"this is class b fun\")\n",
    "ob1=A()\n",
    "ob2=B()\n",
    "ob2.fun1()"
   ]
  },
  {
   "cell_type": "code",
   "execution_count": 16,
   "id": "5dd642ea",
   "metadata": {},
   "outputs": [
    {
     "ename": "AttributeError",
     "evalue": "'B' object has no attribute 'fun1'",
     "output_type": "error",
     "traceback": [
      "\u001b[1;31m---------------------------------------------------------------------------\u001b[0m",
      "\u001b[1;31mAttributeError\u001b[0m                            Traceback (most recent call last)",
      "Cell \u001b[1;32mIn[16], line 12\u001b[0m\n\u001b[0;32m     10\u001b[0m ob1\u001b[38;5;241m=\u001b[39mA()\n\u001b[0;32m     11\u001b[0m ob2\u001b[38;5;241m=\u001b[39mB()\n\u001b[1;32m---> 12\u001b[0m ob2\u001b[38;5;241m.\u001b[39mfun1()\n",
      "\u001b[1;31mAttributeError\u001b[0m: 'B' object has no attribute 'fun1'"
     ]
    }
   ],
   "source": [
    "class A:\n",
    "    def __init__(self,a,b):\n",
    "        self.A=a\n",
    "        self.__B=b\n",
    "    def _fun1_(self):\n",
    "        print(\"this is class a function\")\n",
    "class B(A):\n",
    "    def fun2(self):\n",
    "        print(\"this is class b fun\")\n",
    "ob1=A()\n",
    "ob2=B()\n",
    "ob2.fun1()"
   ]
  },
  {
   "cell_type": "code",
   "execution_count": 18,
   "id": "bc1ec579",
   "metadata": {},
   "outputs": [
    {
     "ename": "AttributeError",
     "evalue": "'A' object has no attribute '_b'",
     "output_type": "error",
     "traceback": [
      "\u001b[1;31m---------------------------------------------------------------------------\u001b[0m",
      "\u001b[1;31mAttributeError\u001b[0m                            Traceback (most recent call last)",
      "Cell \u001b[1;32mIn[18], line 8\u001b[0m\n\u001b[0;32m      6\u001b[0m         \u001b[38;5;28mprint\u001b[39m(\u001b[38;5;28mself\u001b[39m\u001b[38;5;241m.\u001b[39m_B)\n\u001b[0;32m      7\u001b[0m ob1\u001b[38;5;241m=\u001b[39mA(\u001b[38;5;241m2\u001b[39m,\u001b[38;5;241m5\u001b[39m)\n\u001b[1;32m----> 8\u001b[0m \u001b[38;5;28mprint\u001b[39m(ob1\u001b[38;5;241m.\u001b[39mA,ob1\u001b[38;5;241m.\u001b[39m_b)\n",
      "\u001b[1;31mAttributeError\u001b[0m: 'A' object has no attribute '_b'"
     ]
    }
   ],
   "source": [
    "class A:\n",
    "    def __init__(self,a,b):\n",
    "        self.A=a\n",
    "        self.__B=b\n",
    "    def printb(self):\n",
    "        print(self._B)\n",
    "ob1=A(2,5)\n",
    "print(ob1.A,ob1._b)"
   ]
  },
  {
   "cell_type": "code",
   "execution_count": null,
   "id": "c43c374f",
   "metadata": {},
   "outputs": [],
   "source": [
    "#private functions can be called private data members cannot be called"
   ]
  },
  {
   "cell_type": "code",
   "execution_count": 20,
   "id": "789af466",
   "metadata": {},
   "outputs": [
    {
     "name": "stdout",
     "output_type": "stream",
     "text": [
      "2\n",
      "5\n",
      "None\n"
     ]
    }
   ],
   "source": [
    "class A:\n",
    "    def __init__(self,a,b):\n",
    "        self.A=a\n",
    "        self.__B=b\n",
    "    def printB(self):\n",
    "        print(self.__B)\n",
    "ob1=A(2,5)\n",
    "print(ob1.A)\n",
    "print(ob1.printB())"
   ]
  },
  {
   "cell_type": "code",
   "execution_count": null,
   "id": "e01bb33b",
   "metadata": {},
   "outputs": [],
   "source": [
    "#we are getting none because when we call a function printB in that only it has print function so it will print b value\n",
    "#there only and return null value and when we call print(ob1.printB()) since printB return null value so it will print null"
   ]
  },
  {
   "cell_type": "markdown",
   "id": "45b8f4b2",
   "metadata": {},
   "source": [
    "#### create a student class that holds the details of student like name,usn and marks in 5 subjects percentage and grade\n",
    "create 5 student object and get the data for name usn and marks after that find the percentage and grade and store it to\n",
    "the class object"
   ]
  },
  {
   "cell_type": "code",
   "execution_count": 2,
   "id": "a4c6f203",
   "metadata": {},
   "outputs": [
    {
     "name": "stdout",
     "output_type": "stream",
     "text": [
      "nik 21ai074\n",
      "30.0\n",
      "10 20 30 40 50\n",
      "98 90 86 84 70\n"
     ]
    }
   ],
   "source": [
    "class Student:\n",
    "    def __init__(self,name,usn):\n",
    "        self.name=name\n",
    "        self.usn=usn\n",
    "    def marks(self,sub1,sub2,sub3,sub4,sub5):\n",
    "        self.sub1=sub1\n",
    "        self.sub2=sub2\n",
    "        self.sub3=sub3\n",
    "        self.sub4=sub4\n",
    "        self.sub5=sub5\n",
    "        print(((sub1+sub2+sub3+sub4+sub5)/500)*100)\n",
    "    def percentage(self,sub1_per,sub2_per,sub3_per,sub4_per,sub5_per):\n",
    "        self.sub1_per=sub1_per\n",
    "        self.sub2_per=sub2_per\n",
    "        self.sub3_per=sub3_per\n",
    "        self.sub4_per=sub4_per\n",
    "        self.sub5_per=sub5_per\n",
    "st5=Student(\"nik\",\"21ai074\")\n",
    "print(st5.name,st5.usn)\n",
    "st5.marks(10,20,30,40,50)\n",
    "print(st5.sub1,st5.sub2,st5.sub3,st5.sub4,st5.sub5)\n",
    "st5.percentage(98,90,86,84,70)\n",
    "print(st5.sub1_per,st5.sub2_per,st5.sub3_per,st5.sub4_per,st5.sub5_per)"
   ]
  },
  {
   "cell_type": "markdown",
   "id": "46171888",
   "metadata": {},
   "source": [
    "### create a student class that holds the details of student like name,usn and marks in 5 subjects percentage and grade\n",
    "create 5 student object and get the data for name usn and marks after that find the percentage and grade and store it to\n",
    "the class object"
   ]
  },
  {
   "cell_type": "code",
   "execution_count": 7,
   "id": "5028ba3b",
   "metadata": {},
   "outputs": [
    {
     "name": "stdout",
     "output_type": "stream",
     "text": [
      "<class '__main__.Std'>\n",
      "Enter your Name: Nikitha A\n",
      "Enter Your USN: 74\n",
      "Enter Your Marks in Sub1 : 12\n",
      "Enter Your Marks in Sub2 : 12\n",
      "Enter Your Marks in Sub3 : 12\n",
      "Enter Your Marks in Sub4 : 12\n",
      "Enter Your Marks in Sub5 : 12\n",
      "Name:  Nikitha A\n",
      "USN :  74\n",
      "Marks in Five Subject are :\n",
      "Subject 1 = 12\n",
      "Subject 2 = 12\n",
      "Subject 3 = 12\n",
      "Subject 4 = 12\n",
      "Subject 5 = 12\n",
      "Percentage :  12.0\n",
      "Grade :  D\n"
     ]
    }
   ],
   "source": [
    "class Std:\n",
    "    def __init__(self): \n",
    "        self.__USN = None\n",
    "        self.__Name = None\n",
    "        self.__Marks = []\n",
    "        self.__Percentage = None\n",
    "        self.__Grade = None\n",
    "\n",
    "    def Std_Input(self):\n",
    "        self.__Name = input(\"Enter your Name: \")\n",
    "        self.__USN = input(\"Enter Your USN: \")\n",
    "        for i in range (0,5):\n",
    "            marks = input(f\"Enter Your Marks in Sub{i+1} : \")\n",
    "            self.__Marks.append(marks)\n",
    "\n",
    "    def calc_percentage (self):\n",
    "        sum = 0\n",
    "        for i in self.__Marks:\n",
    "            sum = sum + int(i)\n",
    "        self.__Percentage = (sum/500)*100\n",
    "\n",
    "    def calc_Grade(self):\n",
    "        per = float(self.__Percentage)\n",
    "        if per<=100 and per >=80:\n",
    "            self.__Grade = \"A\"\n",
    "        elif per<80 and per >=60:\n",
    "            self.__Grade = \"B\"\n",
    "        elif per<60 and per >=40:\n",
    "            self.__Grade = \"C\"\n",
    "        elif per<40 and per >=0:\n",
    "            self.__Grade = \"D\"\n",
    "        else: \n",
    "            self.__Grade = \"Inavlid\"\n",
    "\n",
    "    def print_details(self):\n",
    "        print(\"Name: \",self.__Name)\n",
    "        print(\"USN : \",self.__USN)\n",
    "        print(\"Marks in Five Subject are :\")\n",
    "        for i in range(0,5):\n",
    "            print(f\"Subject {i+1} = {self.__Marks[i]}\")\n",
    "        print(\"Percentage : \", self.__Percentage)\n",
    "        print(\"Grade : \", self.__Grade)\n",
    "\n",
    "    def convert_list(self):\n",
    "        st_list = [self.__USN,self.__Name,self.__Marks,self.__Percentage,self.__Grade]\n",
    "        return st_list\n",
    "\n",
    "    def covert_ob(self,stu_list):\n",
    "        self.__USN = stu_list[0]\n",
    "        self.__Name = stu_list[1]\n",
    "        self.__Marks = stu_list[2]\n",
    "        self.__Percentage = stu_list[3]\n",
    "        self.__Grade = stu_list[4]\n",
    "\n",
    "\n",
    "\n",
    "st1 = Std()\n",
    "\n",
    "print(type(st1))\n",
    "\n",
    "st1.Std_Input()\n",
    "\n",
    "st1.calc_percentage()\n",
    "st1.calc_Grade()\n",
    "\n",
    "st1.print_details()"
   ]
  },
  {
   "cell_type": "code",
   "execution_count": 10,
   "id": "f83c45d0",
   "metadata": {},
   "outputs": [],
   "source": [
    "#to add everything to a file\n",
    "with open(\"student.txt\",'wb') as File:\n",
    "    L=st1.convert_list()\n",
    "    #to convert list into string it will be comma separated data\n",
    "    data = f\"{L[0]}|{L[1]}|{L[2][0]},{L[2][1]},{L[2][2]},{L[2][3]},{L[2][4]}|{L[3]}|{L[4]}\\n\"\n",
    "    File.write(data.encode())\n",
    "    File.close()"
   ]
  },
  {
   "cell_type": "code",
   "execution_count": 11,
   "id": "c0099820",
   "metadata": {},
   "outputs": [
    {
     "name": "stdout",
     "output_type": "stream",
     "text": [
      "74|Nikitha A|12,12,12,12,12|12.0|D\n",
      "\n",
      "['74', 'Nikitha A', ['12', '12', '12', '12', '12'], '12.0', 'D\\n']\n",
      "Name:  Nikitha A\n",
      "USN :  74\n",
      "Marks in Five Subject are :\n",
      "Subject 1 = 12\n",
      "Subject 2 = 12\n",
      "Subject 3 = 12\n",
      "Subject 4 = 12\n",
      "Subject 5 = 12\n",
      "Percentage :  12.0\n",
      "Grade :  D\n",
      "\n"
     ]
    }
   ],
   "source": [
    "#to convert from file to object \n",
    "stu_list=[]\n",
    "\n",
    "with open(\"student.txt\",'rb') as File:\n",
    "    data = File.readline().decode('utf-8')\n",
    "    print(data)\n",
    "    for i in data.split(\"|\"):\n",
    "        stu_list.append(i)\n",
    "    mrks=stu_list[2]\n",
    "    mrks_list = []\n",
    "    for i in mrks.split(','):\n",
    "        mrks_list.append(i)\n",
    "    stu_list[2]=mrks_list\n",
    "\n",
    "\n",
    "print(stu_list)\n",
    "st2=Std()\n",
    "st2.covert_ob(stu_list)\n",
    "st2.print_details()"
   ]
  },
  {
   "cell_type": "code",
   "execution_count": null,
   "id": "79918a99",
   "metadata": {},
   "outputs": [],
   "source": []
  }
 ],
 "metadata": {
  "kernelspec": {
   "display_name": "Python 3 (ipykernel)",
   "language": "python",
   "name": "python3"
  },
  "language_info": {
   "codemirror_mode": {
    "name": "ipython",
    "version": 3
   },
   "file_extension": ".py",
   "mimetype": "text/x-python",
   "name": "python",
   "nbconvert_exporter": "python",
   "pygments_lexer": "ipython3",
   "version": "3.11.5"
  }
 },
 "nbformat": 4,
 "nbformat_minor": 5
}
