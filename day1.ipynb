{
 "cells": [
  {
   "cell_type": "code",
   "execution_count": 4,
   "id": "756c8d6a",
   "metadata": {},
   "outputs": [
    {
     "name": "stdout",
     "output_type": "stream",
     "text": [
      "enter the votes:1 2 2 3 4 5\n",
      "1 [1, 0, 0, 0, 0, 0]\n",
      "2 [1, 1, 0, 0, 0, 0]\n",
      "2 [1, 2, 0, 0, 0, 0]\n",
      "3 [1, 2, 1, 0, 0, 0]\n",
      "4 [1, 2, 1, 1, 0, 0]\n",
      "5 [1, 2, 1, 1, 1, 0]\n",
      "final count [1, 2, 1, 1, 1, 0]\n",
      "2\n"
     ]
    }
   ],
   "source": [
    "vote=list(map(int,input(\"enter the votes:\").split(\" \")))\n",
    "count=[0]*6\n",
    "for i in vote:\n",
    "    count[i-1]=count[i-1]+1\n",
    "    print(i,count)\n",
    "print(\"final count\",count)\n",
    "winner=max(count)\n",
    "print(winner)"
   ]
  },
  {
   "cell_type": "code",
   "execution_count": 20,
   "id": "1f233542",
   "metadata": {},
   "outputs": [],
   "source": [
    "import os\n",
    "with open('nikitha.txt', 'w') as f:\n",
    "    f.write(\"hello\")\n",
    "    "
   ]
  },
  {
   "cell_type": "code",
   "execution_count": 21,
   "id": "7630838d",
   "metadata": {},
   "outputs": [
    {
     "name": "stdout",
     "output_type": "stream",
     "text": [
      "hello\n"
     ]
    }
   ],
   "source": [
    "with open('nikitha.txt', 'r') as f:\n",
    "    print(f.read())"
   ]
  },
  {
   "cell_type": "code",
   "execution_count": 22,
   "id": "30af34d4",
   "metadata": {},
   "outputs": [],
   "source": [
    "import os\n",
    "with open('nikitha.txt', 'a') as f:\n",
    "    f.write(\" hi\")\n",
    "    f.close()"
   ]
  },
  {
   "cell_type": "markdown",
   "id": "5e6b887d",
   "metadata": {},
   "source": [
    "### rewrite the word"
   ]
  },
  {
   "cell_type": "code",
   "execution_count": 23,
   "id": "ab0d7a3b",
   "metadata": {},
   "outputs": [
    {
     "name": "stdout",
     "output_type": "stream",
     "text": [
      "hello hi\n"
     ]
    }
   ],
   "source": [
    "with open('nikitha.txt','r') as f: \n",
    "    s=f.read() \n",
    "    print(s) \n",
    "    f.close() \n",
    "s=s.replace(\"hello\",'hi') \n",
    "with open(\"nikitha.txt\",'a') as f: \n",
    "    f.write(s) \n",
    "    f.close()"
   ]
  },
  {
   "cell_type": "code",
   "execution_count": 26,
   "id": "4abe5cb7",
   "metadata": {},
   "outputs": [
    {
     "name": "stdout",
     "output_type": "stream",
     "text": [
      "0\n",
      "hi\n"
     ]
    }
   ],
   "source": [
    "with open(\"nikitha.txt\",'rb') as f:\n",
    "    print(f.tell())\n",
    "    f.seek(-2,2)\n",
    "    print(f.read().decode('utf-8'))\n",
    "    f.close()"
   ]
  },
  {
   "cell_type": "code",
   "execution_count": 28,
   "id": "42c68b1c",
   "metadata": {},
   "outputs": [
    {
     "name": "stdout",
     "output_type": "stream",
     "text": [
      "0\n",
      "11\n",
      "i\n"
     ]
    }
   ],
   "source": [
    "with open(\"nikitha.txt\",'r+b') as f:\n",
    "    print(f.tell())#shows the cursor point\n",
    "    f.seek(-2,2)\n",
    "    print(f.tell())\n",
    "    f.write(b\"#\")\n",
    "    print(f.read().decode('utf-8'))\n",
    "    f.close()"
   ]
  },
  {
   "cell_type": "code",
   "execution_count": 29,
   "id": "1a2a72b8",
   "metadata": {},
   "outputs": [],
   "source": [
    "os.remove(\"nikitha.txt\")"
   ]
  },
  {
   "cell_type": "code",
   "execution_count": 31,
   "id": "ca3372a8",
   "metadata": {},
   "outputs": [],
   "source": [
    "import os\n",
    "with open(\"file.txt\",\"wb\") as file:\n",
    "    eid=1\n",
    "    name=\"bat\"\n",
    "    condition=\"good\"\n",
    "    s=f\"{eid},{name},{condition}\\n\"\n",
    "    file.write(s.encode())\n",
    "    eid1=2\n",
    "    s=f\"{eid},{name},{condition}\\n\"\n",
    "    file.write(s.encode())\n",
    "    file.close()\n"
   ]
  },
  {
   "cell_type": "code",
   "execution_count": 32,
   "id": "76748045",
   "metadata": {},
   "outputs": [],
   "source": [
    "# List of items to write to the file\n",
    "items = [\n",
    "    {\"eid\": 1, \"name\": \"bat\", \"condition\": \"good\"},\n",
    "    {\"eid\": 2, \"name\": \"ball\", \"condition\": \"fair\"},\n",
    "    {\"eid\": 3, \"name\": \"glove\", \"condition\": \"excellent\"},\n",
    "    # Add more items as needed\n",
    "]\n",
    "\n",
    "# Open the file in write mode\n",
    "with open(\"output.txt\", \"w\") as file:\n",
    "    # Iterate over each item in the list\n",
    "    for item in items:\n",
    "        # Format the string for the current item\n",
    "        s = f\"{item['eid']},{item['name']},{item['condition']}\\n\"\n",
    "        # Write the formatted string to the file\n",
    "        file.write(s)\n"
   ]
  },
  {
   "cell_type": "code",
   "execution_count": null,
   "id": "8e2c3627",
   "metadata": {},
   "outputs": [],
   "source": []
  }
 ],
 "metadata": {
  "kernelspec": {
   "display_name": "Python 3 (ipykernel)",
   "language": "python",
   "name": "python3"
  },
  "language_info": {
   "codemirror_mode": {
    "name": "ipython",
    "version": 3
   },
   "file_extension": ".py",
   "mimetype": "text/x-python",
   "name": "python",
   "nbconvert_exporter": "python",
   "pygments_lexer": "ipython3",
   "version": "3.11.5"
  }
 },
 "nbformat": 4,
 "nbformat_minor": 5
}
