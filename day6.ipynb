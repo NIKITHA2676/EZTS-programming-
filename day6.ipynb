{
 "cells": [
  {
   "cell_type": "code",
   "execution_count": 10,
   "id": "eeb9bc2c",
   "metadata": {},
   "outputs": [
    {
     "name": "stdout",
     "output_type": "stream",
     "text": [
      "10,4,3,7,6,8\n",
      "[3, 4, 6, 7, 8, 10]\n"
     ]
    }
   ],
   "source": [
    "#bubble sort\n",
    "l=list(map(int,input().split(\",\")))\n",
    "n=len(l)\n",
    "for j in range(0,n):\n",
    "    for i in range(0,n-1-j):\n",
    "        if l[i]>l[i+1]:\n",
    "            l[i],l[i+1]=l[i+1],l[i]\n",
    "print(l)"
   ]
  },
  {
   "cell_type": "code",
   "execution_count": 23,
   "id": "4e807f08",
   "metadata": {},
   "outputs": [
    {
     "name": "stdout",
     "output_type": "stream",
     "text": [
      "1,2,5,4,3\n",
      "[1, 2, 3, 4, 5]\n"
     ]
    }
   ],
   "source": [
    "#selection sort\n",
    "l=list(map(int,input().split(\",\")))\n",
    "n=len(l)\n",
    "for j in range(0,n):\n",
    "    pos=j\n",
    "    min=l[j]\n",
    "    for i in range(j,n):\n",
    "        if l[i]<min:\n",
    "            min=l[i]\n",
    "            pos=i\n",
    "    l[j],l[pos]=l[pos],l[j]\n",
    "print(l)"
   ]
  },
  {
   "cell_type": "code",
   "execution_count": null,
   "id": "00078f1a",
   "metadata": {},
   "outputs": [],
   "source": [
    "#insertion sort\n"
   ]
  },
  {
   "cell_type": "code",
   "execution_count": 1,
   "id": "f290b4b9",
   "metadata": {},
   "outputs": [
    {
     "name": "stdout",
     "output_type": "stream",
     "text": [
      "3\n",
      "1\n",
      "[3]\n"
     ]
    }
   ],
   "source": [
    "#Fibnocci series using recursion\n",
    "t=[0]\n",
    "\n",
    "def fib(n):\n",
    "    t[0]+=1\n",
    "    if n == 1:\n",
    "        return 0\n",
    "    if n == 2:\n",
    "        return 1\n",
    "    return fib(n-1)+fib(n-2)\n",
    "\n",
    "if __name__ == \"__main__\":\n",
    "    n= int(input())\n",
    "    print(fib(n))\n",
    "    print(t)"
   ]
  },
  {
   "cell_type": "code",
   "execution_count": 2,
   "id": "2132635b",
   "metadata": {},
   "outputs": [
    {
     "name": "stdout",
     "output_type": "stream",
     "text": [
      "4\n",
      "24\n"
     ]
    }
   ],
   "source": [
    "#factorial using recursion\n",
    "def fact(n):\n",
    "    if n==0 or n==1:\n",
    "        return 1\n",
    "    else:\n",
    "        return n*fact(n-1)\n",
    "if __name__==\"__main__\":\n",
    "    n=int(input())\n",
    "    print(fact(n))"
   ]
  },
  {
   "cell_type": "code",
   "execution_count": 5,
   "id": "069256e6",
   "metadata": {},
   "outputs": [
    {
     "name": "stdout",
     "output_type": "stream",
     "text": [
      "4,7,8,3,2,9,1,5\n",
      "0 7\n",
      "4 0 7\n",
      "0 0 3\n",
      "3 1 3\n",
      "1 1 2\n",
      "6 5 7\n",
      "sorted array= [1, 2, 3, 4, 5, 7, 8, 9]\n"
     ]
    }
   ],
   "source": [
    "#quick sort\n",
    "\n",
    "\n",
    "def divide(l,low,high):\n",
    "    p=l[high]\n",
    "    pi=high#pivot index\n",
    "    j=low-1\n",
    "    for i in range(low,high):\n",
    "        if l[i]<=p:\n",
    "            j+=1\n",
    "            l[i],l[j]=l[j],l[i]\n",
    "    j+=1\n",
    "    l[j],l[pi]=l[pi],l[j]\n",
    "    pi=j\n",
    "    return pi\n",
    "def quicksort(l,low,high):\n",
    "    if low<high:\n",
    "        pi=divide(l,low,high)\n",
    "        print(pi,low,high)\n",
    "        quicksort(l,low,pi-1)\n",
    "        quicksort(l,pi+1,high)\n",
    "    return\n",
    "if __name__==\"__main__\":\n",
    "    l=list(map(int,input().split(\",\")))\n",
    "    low=0\n",
    "    high=len(l)-1\n",
    "    print(low,high)\n",
    "    quicksort(l,low,high)\n",
    "    print(\"sorted array=\",l)\n",
    "        "
   ]
  },
  {
   "cell_type": "code",
   "execution_count": 2,
   "id": "960a672a",
   "metadata": {},
   "outputs": [
    {
     "name": "stdout",
     "output_type": "stream",
     "text": [
      "4 7 8 3 2 9 1 5\n",
      "Sorted Array =  [1, 2, 3, 4, 5, 7, 8, 9]\n"
     ]
    }
   ],
   "source": [
    "#merge Sort\n",
    "\n",
    "\n",
    "def merge(left,right):\n",
    "    i=j=0\n",
    "    temp=[]\n",
    "\n",
    "    while i<len(left) and j<len(right):\n",
    "        if left[i]<right[j]:\n",
    "            temp.append(left[i])\n",
    "            i+=1\n",
    "        else:\n",
    "            temp.append(right[j])\n",
    "            j+=1\n",
    "            \n",
    "    while i<len(left):\n",
    "        temp.append(left[i])\n",
    "        i+=1\n",
    "        \n",
    "    while j<len(right):\n",
    "        temp.append(right[j])\n",
    "        j+=1\n",
    "\n",
    "    return temp\n",
    "\n",
    "def mergesort(L):\n",
    "    if len(L) <= 1:\n",
    "        return L\n",
    "        \n",
    "    mid = len(L)//2\n",
    "    left=L[:mid] \n",
    "    right=L[mid:]\n",
    "    \n",
    "    left_sorted = mergesort(left)\n",
    "    right_sorted = mergesort(right)\n",
    "    \n",
    "    return merge(left_sorted,right_sorted)\n",
    "\n",
    "\n",
    "if __name__==\"__main__\":\n",
    "    L=list(map(int,input().split())) # 4 7 8 3 2 9 1 5\n",
    "    sorted=mergesort(L)\n",
    "\n",
    "    print(\"Sorted Array = \",sorted)"
   ]
  },
  {
   "cell_type": "code",
   "execution_count": null,
   "id": "2d4ad16e",
   "metadata": {},
   "outputs": [],
   "source": [
    "#quick sort is the best sorting technique "
   ]
  }
 ],
 "metadata": {
  "kernelspec": {
   "display_name": "Python 3 (ipykernel)",
   "language": "python",
   "name": "python3"
  },
  "language_info": {
   "codemirror_mode": {
    "name": "ipython",
    "version": 3
   },
   "file_extension": ".py",
   "mimetype": "text/x-python",
   "name": "python",
   "nbconvert_exporter": "python",
   "pygments_lexer": "ipython3",
   "version": "3.11.5"
  }
 },
 "nbformat": 4,
 "nbformat_minor": 5
}
