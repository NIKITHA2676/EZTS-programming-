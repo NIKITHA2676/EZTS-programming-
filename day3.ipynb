{
 "cells": [
  {
   "cell_type": "code",
   "execution_count": null,
   "id": "1e094077",
   "metadata": {},
   "outputs": [],
   "source": [
    "m=int(input(\"enter the number \"))\n",
    "flag=0\n",
    "if m<0:\n",
    "    flag=0\n",
    "else:\n",
    "    flag=1\n",
    "else:\n",
    "    for i in range(2,(m//2)+1):"
   ]
  },
  {
   "cell_type": "code",
   "execution_count": 4,
   "id": "417a44a2",
   "metadata": {},
   "outputs": [
    {
     "name": "stdout",
     "output_type": "stream",
     "text": [
      "enter the number of terms: 5\n",
      "0\n",
      "1\n",
      "1\n",
      "2\n",
      "3\n"
     ]
    }
   ],
   "source": [
    "n=int(input(\"enter the number of terms: \"))\n",
    "a=0\n",
    "b=1\n",
    "c=a+b\n",
    "if n==1:\n",
    "    print(a)\n",
    "elif n==2:\n",
    "    print(a)\n",
    "    print(b)\n",
    "else:\n",
    "    print(a)\n",
    "    print(b)\n",
    "    for i in range(2,n):\n",
    "        print(c)\n",
    "        a=b\n",
    "        b=c\n",
    "        c=a+b"
   ]
  },
  {
   "cell_type": "code",
   "execution_count": 14,
   "id": "ef7ee1b0",
   "metadata": {},
   "outputs": [
    {
     "name": "stdout",
     "output_type": "stream",
     "text": [
      "enter the number7\n",
      "(11, 27, False)\n"
     ]
    }
   ],
   "source": [
    "# Find the smallest prime number larger than a given integer N.\n",
    "def check_prime(m):\n",
    "    flag=0\n",
    "    if m<1:\n",
    "        flag=1 \n",
    "    elif m==1:\n",
    "        flag=0\n",
    "    else:\n",
    "        for i in range(2,(m//2)+1):\n",
    "            if m%i==0:\n",
    "                flag=1\n",
    "                break\n",
    "    if(flag==0):\n",
    "        return 1   #if m is prime\n",
    "    else:\n",
    "        return 0   #if m is not prime\n",
    "\n",
    "result=[]\n",
    "N=int(input(\"enter the number\"))\n",
    "flag=0\n",
    "k=N+1\n",
    "while flag<1:\n",
    "    flag=check_prime(k)\n",
    "    if flag==1:\n",
    "        result.append(k)   #if number is prime add the number to list\n",
    "    else:\n",
    "        k=k+1#if number N is not a prime increment N\n",
    "\n",
    "        \n",
    "\n",
    "        \n",
    "#Calculate the sum of all prime numbers between N and the smallest prime number larger than  N. \n",
    "sum=0\n",
    "for i in range(N+1,k):\n",
    "    sum+=i\n",
    "result.append(sum)\n",
    "\n",
    "\n",
    "\n",
    "\n",
    "#to get next prime number after p1 \n",
    "p1=k\n",
    "flag=0\n",
    "k=p1+1\n",
    "while flag<1:\n",
    "    flag=check_prime(k)\n",
    "    if flag==1:\n",
    "        p2=k\n",
    "    else:\n",
    "        k=k+1\n",
    "\n",
    "#Determine if the product of the smallest prime number larger than N and the next immediate prime number is also a prime. \n",
    "p3=p1*p2\n",
    "flag=check_prime(p3)\n",
    "if flag==0:\n",
    "    result.append(False)\n",
    "else:\n",
    "    result.append(True)\n",
    "prime_key=tuple(result)\n",
    "print(prime_key)   "
   ]
  },
  {
   "cell_type": "code",
   "execution_count": 7,
   "id": "39311f18",
   "metadata": {},
   "outputs": [
    {
     "name": "stdout",
     "output_type": "stream",
     "text": [
      "Enter the value5\n",
      "problem solved= 4\n"
     ]
    }
   ],
   "source": [
    "t1=int(input(\"Enter the value\"))\n",
    "for i in range(0,5):\n",
    "    t=(i+1)*5\n",
    "    if (tl-t)<0:\n",
    "        print(\"problem solved=\",i)\n",
    "        break\n",
    "    else:\n",
    "        tl=tl-t"
   ]
  }
 ],
 "metadata": {
  "kernelspec": {
   "display_name": "Python 3 (ipykernel)",
   "language": "python",
   "name": "python3"
  },
  "language_info": {
   "codemirror_mode": {
    "name": "ipython",
    "version": 3
   },
   "file_extension": ".py",
   "mimetype": "text/x-python",
   "name": "python",
   "nbconvert_exporter": "python",
   "pygments_lexer": "ipython3",
   "version": "3.11.5"
  }
 },
 "nbformat": 4,
 "nbformat_minor": 5
}
