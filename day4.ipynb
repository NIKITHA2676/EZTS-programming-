{
 "cells": [
  {
   "cell_type": "code",
   "execution_count": 25,
   "id": "fd535ab0",
   "metadata": {},
   "outputs": [
    {
     "name": "stdout",
     "output_type": "stream",
     "text": [
      "{'nik': ['O'], 'raj': ['I']}\n"
     ]
    }
   ],
   "source": [
    "def count_vowel(s):\n",
    "    dic={'A':0,'E':0,'I':0,'O':0,'U':0}\n",
    "    for i in s:\n",
    "        if i==\"a\" or i=='A':\n",
    "            dic['A']+=1\n",
    "        elif i==\"e\" or i=='E':\n",
    "            dic['E']+=1\n",
    "        elif i==\"i\" or i=='I':\n",
    "            dic['I']+=1\n",
    "        elif i==\"o\" or i=='O':\n",
    "            dic['O']+=1\n",
    "        elif i==\"u\" or i=='U':\n",
    "            dic['U']+=1\n",
    "    x=max(dic.values())#count the number of times vowel repeated\n",
    "    result=[]\n",
    "    for i,j in dic.items():#i will give the vowel that has occured maximum times,j will return number of times the vowel occ\n",
    "        if j==x:\n",
    "            result.append(i)\n",
    "    return result\n",
    "i_p=[\n",
    "    ['nik','hi how are you'],\n",
    "    ['raj',\"iam fine\"]\n",
    "]\n",
    "o_p={}\n",
    "for i in i_p:\n",
    "    o_p[i[0]]=count_vowel(i[1])\n",
    "print(o_p)"
   ]
  },
  {
   "cell_type": "markdown",
   "id": "10ae9791",
   "metadata": {},
   "source": [
    "#given a integer array your task is to find the 3 continious digits which gives you the maximum sum\n",
    "#sample input:[2,4,3,5,6,3,4,6,7,1,2,5]\n",
    "#output:[4,6,7]\n"
   ]
  },
  {
   "cell_type": "code",
   "execution_count": 6,
   "id": "fb47d9a0",
   "metadata": {},
   "outputs": [
    {
     "name": "stdout",
     "output_type": "stream",
     "text": [
      "17 4 6 7\n"
     ]
    }
   ],
   "source": [
    "l=[2,4,3,5,6,3,4,6,7,1,2,5]\n",
    "sum=max=0\n",
    "for i in range(0,len(l)-2):\n",
    "    sum=l[i]+l[i+1]+l[i+2]\n",
    "    if max<sum:\n",
    "        max=sum\n",
    "        pos=i\n",
    "print(max,l[pos],l[pos+1],l[pos+2])"
   ]
  },
  {
   "cell_type": "code",
   "execution_count": 10,
   "id": "d5b950c5",
   "metadata": {},
   "outputs": [
    {
     "name": "stdout",
     "output_type": "stream",
     "text": [
      "enter the list elements :2,3,4,5\n",
      "enter the number2\n",
      "9\n",
      "4\n",
      "5\n"
     ]
    }
   ],
   "source": [
    "#given a integer array your task is to find the k continious digits which gives you  maximum sum where k is entered by user\n",
    "#sample input:[2,4,3,5,6,3,4,6,7,1,2,5]\n",
    "#output:[4,6,7]\n",
    "l=[int(i) for i in input(\"enter the list elements :\").split(\",\")]\n",
    "k=int(input(\"enter the number\"))\n",
    "sum=maxi=0\n",
    "for i in range(0,len(l)-k+1):\n",
    "    sum=0\n",
    "    for j in range(0,k):\n",
    "        sum=sum+l[i+j]\n",
    "        if maxi<sum:\n",
    "            maxi=sum\n",
    "            pos=i\n",
    "print(maxi)\n",
    "for j in range(0,k):\n",
    "    print(l[pos+j])"
   ]
  },
  {
   "cell_type": "code",
   "execution_count": 4,
   "id": "f10ede1d",
   "metadata": {},
   "outputs": [
    {
     "name": "stdout",
     "output_type": "stream",
     "text": [
      "enter the list elements :1,2,3,1,4\n",
      "3\n"
     ]
    }
   ],
   "source": [
    "l=[int(i) for i in input(\"enter the list elements :\").split(\",\")]\n",
    "result=0\n",
    "for i in range(0,len(l)):\n",
    "    for j in range(0,len(l)):\n",
    "        if l[i]==l[j]:\n",
    "            result=j-1\n",
    "        else:\n",
    "            result=-1\n",
    "print(result)"
   ]
  },
  {
   "cell_type": "code",
   "execution_count": 3,
   "id": "263217a0",
   "metadata": {},
   "outputs": [
    {
     "name": "stdout",
     "output_type": "stream",
     "text": [
      "Enter the no of continious digit: 2\n",
      "result\n",
      "18\n",
      "9\n",
      "9\n"
     ]
    }
   ],
   "source": [
    "l=[2,4,3,5,6,3,4,6,7,9,9,9]\n",
    "window = max = 0\n",
    "k = int(input(\"Enter the no of continious digit: \"))\n",
    "\n",
    "for j in range(0,k):\n",
    "        window+=l[j]\n",
    "l.append(0)\n",
    "for i in range(0,len(l)-k):\n",
    "    if max<window:\n",
    "        max=window\n",
    "        pos=i\n",
    "    window = window+l[i+k]-l[i]\n",
    "\n",
    "print(\"result\")\n",
    "print(max)\n",
    "for j in range(0,k):\n",
    "    print(l[pos+j])"
   ]
  },
  {
   "cell_type": "code",
   "execution_count": 5,
   "id": "146c72aa",
   "metadata": {},
   "outputs": [
    {
     "name": "stdout",
     "output_type": "stream",
     "text": [
      "Enter the no of continious digit: 4\n",
      "12\n",
      "20\n",
      "3\n",
      "4\n",
      "6\n",
      "7\n"
     ]
    }
   ],
   "source": [
    "l=[2,4,3,5,6,3,4,6,7,1,2,5]\n",
    "sum = max = 0\n",
    "k = int(input(\"Enter the no of continious digit: \"))\n",
    "print(len(l))\n",
    "for i in range(0,len(l)-k+1):\n",
    "    sum = 0\n",
    "    for j in range(0,k):\n",
    "        sum+=l[i+j]\n",
    "    if max<sum:\n",
    "        max = sum\n",
    "        pos=i\n",
    "\n",
    "print(max)\n",
    "for j in range(0,k):\n",
    "    print(l[pos+j])"
   ]
  },
  {
   "cell_type": "code",
   "execution_count": null,
   "id": "aaa436ec",
   "metadata": {},
   "outputs": [],
   "source": []
  }
 ],
 "metadata": {
  "kernelspec": {
   "display_name": "Python 3 (ipykernel)",
   "language": "python",
   "name": "python3"
  },
  "language_info": {
   "codemirror_mode": {
    "name": "ipython",
    "version": 3
   },
   "file_extension": ".py",
   "mimetype": "text/x-python",
   "name": "python",
   "nbconvert_exporter": "python",
   "pygments_lexer": "ipython3",
   "version": "3.11.5"
  }
 },
 "nbformat": 4,
 "nbformat_minor": 5
}
