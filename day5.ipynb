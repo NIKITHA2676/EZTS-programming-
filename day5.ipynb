{
 "cells": [
  {
   "cell_type": "code",
   "execution_count": 7,
   "id": "3f3e4eae",
   "metadata": {},
   "outputs": [
    {
     "name": "stdout",
     "output_type": "stream",
     "text": [
      "[10, 20, 30, 40]\n",
      "[10, 20, 30]\n"
     ]
    }
   ],
   "source": [
    "class Stack:\n",
    "    def __init__(self):\n",
    "        self.items=[]\n",
    "    def push(self,data):\n",
    "        self.items.append(data)\n",
    "    def pop(self):\n",
    "        return self.items.pop()\n",
    "    def size(self):\n",
    "        return len(self.items)\n",
    "st=Stack()\n",
    "st.push(10)\n",
    "st.push(20)\n",
    "st.push(30)\n",
    "st.push(40)\n",
    "print(st.items)\n",
    "st.pop()\n",
    "print(st.items)"
   ]
  },
  {
   "cell_type": "markdown",
   "id": "334e2fce",
   "metadata": {},
   "source": [
    "A Studnet is given a task to create some mathematical expression for BODMAS. but due to some other work he forgot to do that but in the night he clicked that he have to create some expression for BODMAS due to sleepy mood he did some mistake while putting the brackets. you job is to checK wether the expression give by that boy is Valid or not.\n",
    "\n",
    "Sample Input: [3+7{52/11(3+5)}] Valid expression as all the brackets are properly open and close [4-6{235(9+6)] Invalid expression as some brackets are not proper."
   ]
  },
  {
   "cell_type": "code",
   "execution_count": 9,
   "id": "663a3367",
   "metadata": {},
   "outputs": [
    {
     "name": "stdout",
     "output_type": "stream",
     "text": [
      "valid\n"
     ]
    }
   ],
   "source": [
    "e=\"[3+7{52/11(3+5)}]\"\n",
    "s=Stack()\n",
    "ob=\"[{(\"\n",
    "cb=\")}]\"\n",
    "flag=0\n",
    "for i in e:\n",
    "    if i in ob:\n",
    "        s.push(i)\n",
    "    if i in cb:\n",
    "        x=s.pop()\n",
    "        if x=='(' and i==\")\":\n",
    "            pass\n",
    "        elif x==\"{\" and i==\"}\":\n",
    "            pass\n",
    "        elif x==\"[\" and i==']':\n",
    "            pass\n",
    "        else:\n",
    "            flag=1\n",
    "            break\n",
    "if flag==0 and s.size()==0:\n",
    "    print(\"valid\")\n",
    "else:\n",
    "    print(\"invalid\")"
   ]
  },
  {
   "cell_type": "markdown",
   "id": "1d3b4fdc",
   "metadata": {},
   "source": [
    "I a tyre factory many workers are working there each worker is assigned with a integer number which help them to find their Supervisor. the project Manager having an Array that consist of a integer numbers help the project Manager to find thier supervisors. Supervisor will be assinged as the first largest integer find on the right side of the array if not found return -1.\n",
    "\n",
    "i/p: [3,5,2,14,5,3,7,9,4,6,9,4,2,5,3] o/p:=[5,14,14,-1,7,7,9,-1,6,9,-1,5,5,-1,-1]"
   ]
  },
  {
   "cell_type": "code",
   "execution_count": 1,
   "id": "85c58c0b",
   "metadata": {},
   "outputs": [
    {
     "name": "stdout",
     "output_type": "stream",
     "text": [
      "[5, 14, 14, -1, 7, 7, 9, -1, 6, 9, -1, 5, 5, -1, -1]\n"
     ]
    }
   ],
   "source": [
    "class Stack:\n",
    "    def __init__(self):\n",
    "        self.items = []\n",
    "    def push(self,data):\n",
    "        self.items.append(data)\n",
    "    def pop(self):\n",
    "        return self.items.pop()\n",
    "    def size(self):\n",
    "        return len(self.items)\n",
    "    def top(self):\n",
    "        return self.items[-1]\n",
    "\n",
    "        \n",
    "L= [3,5,2,14,5,3,7,9,4,6,9,4,2,5,3]\n",
    "O=[0]*len(L)\n",
    "s= Stack()\n",
    "for i in range(len(L)-1,-1,-1):\n",
    "    if s.size() != 0:\n",
    "        while s.size() !=0 and s.top()<=L[i]:\n",
    "            if s.top() <= L[i]:\n",
    "                s.pop()\n",
    "    if s.size() == 0:\n",
    "        O[i]=-1\n",
    "    else:\n",
    "        O[i]=s.top()\n",
    "    s.push(L[i])\n",
    "print(O)\n",
    "[5, 14, 14, -1, 7, 7, 9, -1, 6, 9, -1, 5, 5, -1, -1]\n",
    "class Queue:\n",
    "    def __init__(self):\n",
    "        self.item=[]\n",
    "    def push(self,data):\n",
    "        self.item.append(data)\n",
    "    def pop(self):\n",
    "        return self.item.pop(0)\n",
    "    def size(self):\n",
    "        return len(self.item)"
   ]
  },
  {
   "cell_type": "code",
   "execution_count": 13,
   "id": "78de911e",
   "metadata": {},
   "outputs": [
    {
     "name": "stdout",
     "output_type": "stream",
     "text": [
      "[1, 2, 3, 4]\n"
     ]
    }
   ],
   "source": [
    "#queue\n",
    "class Queue:\n",
    "    def __init__(self):\n",
    "        self.item=[]\n",
    "    def push(self,data):\n",
    "        self.item.append(data)\n",
    "    def pop(self):\n",
    "        return self.item.pop(0)\n",
    "    def size(self):\n",
    "        return len(self.item)\n",
    "qu=Queue()\n",
    "qu.push(1)\n",
    "qu.push(2)\n",
    "qu.push(3)\n",
    "qu.push(4)\n",
    "\n",
    "print(qu.item)"
   ]
  },
  {
   "cell_type": "code",
   "execution_count": 3,
   "id": "570697f3",
   "metadata": {},
   "outputs": [
    {
     "name": "stdout",
     "output_type": "stream",
     "text": [
      "<__main__.Node object at 0x0000022A89E63290>\n",
      "<__main__.Node object at 0x0000022A89E63710>\n",
      "<__main__.Node object at 0x0000022A89E63710>\n"
     ]
    }
   ],
   "source": [
    "#link list\n",
    "class Node:\n",
    "    def __init__(self,data):\n",
    "        self.value=data\n",
    "        self.next=None\n",
    "\n",
    "Head=Tail=Node(10)\n",
    "\n",
    "Tail.next=Node(20)\n",
    "Tail=Tail.next\n",
    "\n",
    "Tail.next=Node(30)\n",
    "Tail=Tail.next\n",
    "\n",
    "Tail.next=Node(40)\n",
    "Tail=Tail.next\n",
    "print(Head)\n",
    "print(Tail)\n",
    "print(Head.next.next.next)"
   ]
  },
  {
   "cell_type": "code",
   "execution_count": 5,
   "id": "b96fe4ed",
   "metadata": {},
   "outputs": [
    {
     "name": "stdout",
     "output_type": "stream",
     "text": [
      "10\n",
      "20\n",
      "30\n",
      "40\n"
     ]
    }
   ],
   "source": [
    "def print_link_list(Head):\n",
    "    if Head == None:\n",
    "        print(\"List is Empty\")\n",
    "        return\n",
    "    curr=Head\n",
    "    while curr !=None:\n",
    "        print(curr.value)\n",
    "        curr=curr.next\n",
    "print_link_list(Head)"
   ]
  },
  {
   "cell_type": "code",
   "execution_count": 6,
   "id": "b0e49280",
   "metadata": {},
   "outputs": [
    {
     "name": "stdout",
     "output_type": "stream",
     "text": [
      "4*3\n",
      "12.0\n"
     ]
    }
   ],
   "source": [
    "#Basic Calculator \n",
    "\n",
    "s=input()\n",
    "OP=['+','-','*','/']\n",
    "for i in s:\n",
    "    if i in OP:\n",
    "        x=i\n",
    "        s=s.replace(x,\" \")\n",
    "\n",
    "l=list(map(float,s.split()))\n",
    "\n",
    "match x:\n",
    "    case '+': print(l[0]+l[1])\n",
    "    case '-': print(l[0]-l[1])\n",
    "    case '*': print(l[0]*l[1])\n",
    "    case '/': print(l[0]/l[1])\n",
    "    case _ : print(\"Invalid Operator\")"
   ]
  },
  {
   "cell_type": "code",
   "execution_count": null,
   "id": "97c9c7d6",
   "metadata": {},
   "outputs": [],
   "source": []
  }
 ],
 "metadata": {
  "kernelspec": {
   "display_name": "Python 3 (ipykernel)",
   "language": "python",
   "name": "python3"
  },
  "language_info": {
   "codemirror_mode": {
    "name": "ipython",
    "version": 3
   },
   "file_extension": ".py",
   "mimetype": "text/x-python",
   "name": "python",
   "nbconvert_exporter": "python",
   "pygments_lexer": "ipython3",
   "version": "3.11.5"
  }
 },
 "nbformat": 4,
 "nbformat_minor": 5
}
