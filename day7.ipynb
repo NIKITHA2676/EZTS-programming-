{
 "cells": [
  {
   "cell_type": "code",
   "execution_count": 10,
   "id": "a950b9c7",
   "metadata": {},
   "outputs": [
    {
     "name": "stdout",
     "output_type": "stream",
     "text": [
      "preorder\n",
      "1\n",
      "2\n",
      "4\n",
      "5\n",
      "3\n",
      "6\n",
      "7\n",
      "inorder\n",
      "4\n",
      "2\n",
      "5\n",
      "1\n",
      "6\n",
      "3\n",
      "7\n",
      "postorder\n",
      "4\n",
      "5\n",
      "2\n",
      "6\n",
      "7\n",
      "3\n",
      "1\n"
     ]
    }
   ],
   "source": [
    "#TREE\n",
    "\n",
    "class node:\n",
    "    def __init__(self,data):\n",
    "        self.value=data\n",
    "        self.left=None\n",
    "        self.right=None\n",
    "    \n",
    "def preorder(root):\n",
    "    if root==None:\n",
    "        return\n",
    "    print(root.value)#print root\n",
    "    preorder(root.left)#print left child\n",
    "    preorder(root.right)#print right child\n",
    "\n",
    "def postorder(root):\n",
    "    if root==None:\n",
    "        return\n",
    "    postorder(root.left)\n",
    "    postorder(root.right)\n",
    "    print(root.value)\n",
    "\n",
    "def inorder(root):\n",
    "    if root==None:\n",
    "        return\n",
    "    inorder(root.left)\n",
    "    print(root.value)\n",
    "    inorder(root.right)\n",
    "\n",
    "if __name__==\"__main__\":\n",
    "    root=node(1)\n",
    "    \n",
    "    root.left=node(2)\n",
    "    root.right=node(3)\n",
    "    \n",
    "    root.left.left=node(4)\n",
    "    root.left.right=node(5)\n",
    "    \n",
    "    root.right.left=node(6)\n",
    "    root.right.right=node(7)\n",
    "    \n",
    "    print(\"preorder\")\n",
    "    preorder(root)\n",
    "    print(\"inorder\")\n",
    "    inorder(root)\n",
    "    print(\"postorder\")\n",
    "    postorder(root)\n",
    "    "
   ]
  },
  {
   "cell_type": "code",
   "execution_count": 12,
   "id": "af6dee24",
   "metadata": {},
   "outputs": [
    {
     "name": "stdout",
     "output_type": "stream",
     "text": [
      "1 \n",
      "2 3 \n",
      "4 5 6 7 \n",
      "9 10 11 \n",
      "12 13 "
     ]
    }
   ],
   "source": [
    "#level order traversal\n",
    "class node:\n",
    "    def __init__(self,data):\n",
    "        self.value=data\n",
    "        self.left=None\n",
    "        self.right=None\n",
    "def levelorder(root):\n",
    "    q=[root]\n",
    "    q.append(None)\n",
    "    \n",
    "    while len(q)>0:\n",
    "        curr=q.pop(0)\n",
    "        \n",
    "        if curr==None:\n",
    "            if len(q)==0:\n",
    "                break\n",
    "            else:\n",
    "                print()\n",
    "                q.append(None)\n",
    "        else:\n",
    "            print(curr.value,end=\" \")\n",
    "            if curr.left!=None:\n",
    "                q.append(curr.left)\n",
    "            if curr.right!=None:\n",
    "                q.append(curr.right)\n",
    "                \n",
    "        \n",
    "if __name__==\"__main__\":\n",
    "    root=node(1)\n",
    "    \n",
    "    root.left=node(2)\n",
    "    root.right=node(3)\n",
    "    \n",
    "    root.left.left=node(4)\n",
    "    root.left.right=node(5)\n",
    "    \n",
    "    root.right.left=node(6)\n",
    "    root.right.right=node(7)\n",
    "    \n",
    "    root.left.right.left=node(9)\n",
    "    root.left.right.right=node(10)\n",
    "    \n",
    "    root.right.right.right=node(11)\n",
    "    root.left.right.left.left=node(12)\n",
    "    root.left.right.left.right=node(13)\n",
    "\n",
    "    \n",
    "levelorder(root)   "
   ]
  },
  {
   "cell_type": "code",
   "execution_count": 19,
   "id": "9b3ec0a4",
   "metadata": {},
   "outputs": [
    {
     "name": "stdout",
     "output_type": "stream",
     "text": [
      "hight of tree is\n"
     ]
    },
    {
     "data": {
      "text/plain": [
       "5"
      ]
     },
     "execution_count": 19,
     "metadata": {},
     "output_type": "execute_result"
    }
   ],
   "source": [
    "class node:\n",
    "    def __init__(self,data):\n",
    "        self.value=data\n",
    "        self.left=None\n",
    "        self.right=None\n",
    "def height(root):\n",
    "    if root==None:\n",
    "        return 0\n",
    "    lh=height(root.left)\n",
    "    rh=height(root.right)\n",
    "    return max(lh,rh)+1\n",
    "\n",
    "if __name__==\"__main__\":\n",
    "    root=node(1)\n",
    "    \n",
    "    root.left=node(2)\n",
    "    root.right=node(3)\n",
    "    \n",
    "    root.left.left=node(4)\n",
    "    root.left.right=node(5)\n",
    "    \n",
    "    root.right.left=node(6)\n",
    "    root.right.right=node(7)\n",
    "    \n",
    "    root.left.right.left=node(9)\n",
    "    root.left.right.right=node(10)\n",
    "    \n",
    "    root.right.right.right=node(11)\n",
    "    root.left.right.left.left=node(12)\n",
    "    root.left.right.left.right=node(13)\n",
    "print(\"hight of tree is\")\n",
    "height(root)"
   ]
  },
  {
   "cell_type": "code",
   "execution_count": 20,
   "id": "922bdf5d",
   "metadata": {},
   "outputs": [
    {
     "name": "stdout",
     "output_type": "stream",
     "text": [
      "4\n",
      "2\n",
      "1\n",
      "3\n",
      "7\n",
      "11\n",
      "{0: 1, -1: 2, 1: 3, -2: 4, 2: 7, 3: 11}\n"
     ]
    }
   ],
   "source": [
    "#VIEW\n",
    "#Top view \n",
    "\n",
    "class node_data:\n",
    "    def __init__(self,Node,HKey):\n",
    "        self.node=Node\n",
    "        self.hkey=HKey\n",
    "\n",
    "def topview(root):        \n",
    "    temp=node_data(root,0) \n",
    "    Q=[temp]\n",
    "    Q.append(None)\n",
    "    Key_Dict = {}\n",
    "    while len(Q) != 0:\n",
    "        curr = Q.pop(0)\n",
    "        \n",
    "        if curr == None:\n",
    "            if len(Q) == 0:\n",
    "                break\n",
    "            else:\n",
    "                Q.append(None)\n",
    "        else:\n",
    "            if curr.hkey not in Key_Dict.keys():\n",
    "                Key_Dict[curr.hkey] = curr.node.value\n",
    "            \n",
    "            if curr.node.left != None:\n",
    "                temp = node_data(curr.node.left,curr.hkey-1)\n",
    "                Q.append(temp)\n",
    "            \n",
    "            if curr.node.right != None:\n",
    "                temp = node_data(curr.node.right,curr.hkey+1)\n",
    "                Q.append(temp)\n",
    "    for i in sorted(Key_Dict):\n",
    "        print(Key_Dict[i])\n",
    "    print(Key_Dict)\n",
    "topview(root)"
   ]
  },
  {
   "cell_type": "code",
   "execution_count": 27,
   "id": "d97f7894",
   "metadata": {},
   "outputs": [
    {
     "name": "stdout",
     "output_type": "stream",
     "text": [
      "12\n",
      "9\n",
      "13\n",
      "10\n",
      "7\n",
      "11\n",
      "{0: 13, -1: 9, 1: 10, -2: 12, 2: 7, 3: 11}\n"
     ]
    }
   ],
   "source": [
    "#bottom view\n",
    "class node_data:\n",
    "    def __init__(self,Node,HKey):\n",
    "        self.node=Node\n",
    "        self.hkey=HKey\n",
    "\n",
    "def bottomview(root):        \n",
    "    temp=node_data(root,0) \n",
    "    Q=[temp]\n",
    "    Q.append(None)\n",
    "    Key_Dict = {}\n",
    "    while len(Q) != 0:\n",
    "        curr = Q.pop(0)\n",
    "        \n",
    "        if curr == None:\n",
    "            if len(Q) == 0:\n",
    "                break\n",
    "            else:\n",
    "                Q.append(None)\n",
    "        else:\n",
    "            Key_Dict[curr.hkey] = curr.node.value\n",
    "            \n",
    "            if curr.node.left != None:\n",
    "                temp = node_data(curr.node.left,curr.hkey-1)\n",
    "                Q.append(temp)\n",
    "            \n",
    "            if curr.node.right != None:\n",
    "                temp = node_data(curr.node.right,curr.hkey+1)\n",
    "                Q.append(temp)\n",
    "    for i in sorted(Key_Dict):\n",
    "        print(Key_Dict[i])\n",
    "    print(Key_Dict)\n",
    "bottomview(root)"
   ]
  },
  {
   "cell_type": "markdown",
   "id": "dcac8151",
   "metadata": {},
   "source": [
    "stack is used for dfs\n",
    "queue is used for bfs"
   ]
  },
  {
   "cell_type": "code",
   "execution_count": 37,
   "id": "5eceb396",
   "metadata": {},
   "outputs": [
    {
     "name": "stdout",
     "output_type": "stream",
     "text": [
      "1\n",
      "2\n",
      "4\n",
      "9\n",
      "12\n"
     ]
    }
   ],
   "source": [
    "#left view\n",
    "class node:\n",
    "    def __init__(self,data):\n",
    "        self.value=data\n",
    "        self.left=None\n",
    "        self.right=None\n",
    "def leftview(root):\n",
    "    q=[root]\n",
    "    q.append(None)\n",
    "    \n",
    "    while len(q)>0:\n",
    "        curr=q.pop(0)\n",
    "        \n",
    "        if curr==None:\n",
    "            if len(q)==0:\n",
    "                break\n",
    "            else:\n",
    "                print(q[0].value)\n",
    "                q.append(None)\n",
    "        else:\n",
    "            #print(curr.value,end=\" \")\n",
    "            if curr.left!=None:\n",
    "                q.append(curr.left)\n",
    "            if curr.right!=None:\n",
    "                q.append(curr.right)\n",
    "                \n",
    "        \n",
    "if __name__==\"__main__\":\n",
    "    root=node(1)\n",
    "    \n",
    "    root.left=node(2)\n",
    "    root.right=node(3)\n",
    "    \n",
    "    root.left.left=node(4)\n",
    "    root.left.right=node(5)\n",
    "    \n",
    "    root.right.left=node(6)\n",
    "    root.right.right=node(7)\n",
    "    \n",
    "    root.left.right.left=node(9)\n",
    "    root.left.right.right=node(10)\n",
    "    \n",
    "    root.right.right.right=node(11)\n",
    "    root.left.right.left.left=node(12)\n",
    "    root.left.right.left.right=node(13)\n",
    "\n",
    "    print(root.value)    \n",
    "    leftview(root)   "
   ]
  },
  {
   "cell_type": "code",
   "execution_count": null,
   "id": "d1f154ef",
   "metadata": {},
   "outputs": [],
   "source": []
  }
 ],
 "metadata": {
  "kernelspec": {
   "display_name": "Python 3 (ipykernel)",
   "language": "python",
   "name": "python3"
  },
  "language_info": {
   "codemirror_mode": {
    "name": "ipython",
    "version": 3
   },
   "file_extension": ".py",
   "mimetype": "text/x-python",
   "name": "python",
   "nbconvert_exporter": "python",
   "pygments_lexer": "ipython3",
   "version": "3.11.5"
  },
  "widgets": {
   "application/vnd.jupyter.widget-state+json": {
    "state": {},
    "version_major": 2,
    "version_minor": 0
   }
  }
 },
 "nbformat": 4,
 "nbformat_minor": 5
}
